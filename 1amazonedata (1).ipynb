{
 "cells": [
  {
   "cell_type": "markdown",
   "id": "e9de6996",
   "metadata": {},
   "source": [
    "# Problem Statement"
   ]
  },
  {
   "cell_type": "raw",
   "id": "875eec6a",
   "metadata": {},
   "source": [
    " The dataset consists of the survey data of the amazone sales within the years 2019. \n",
    " \n",
    "Various variables present in the dataset inclueds Order ID,Product,Purchase Address\n",
    "\n",
    "The dataset comprises of 186850 observations of 6 columns. Below is a table showing names of all the columns and their description."
   ]
  },
  {
   "cell_type": "raw",
   "id": "31c07c37",
   "metadata": {},
   "source": [
    "column Name                            Description \n",
    "\n",
    "Order ID                               custoumer's order ID\n",
    "Product                                which product custoumer buy\n",
    "Quantity Ordered                       quantity of product\n",
    "Price Each                             Price of each product\n",
    "Order Date                             Order date\n",
    "Purchase Address                       purchase address"
   ]
  },
  {
   "cell_type": "code",
   "execution_count": null,
   "id": "3f7c5514",
   "metadata": {},
   "outputs": [],
   "source": []
  },
  {
   "cell_type": "code",
   "execution_count": 1,
   "id": "5eed8b87-765a-4c50-a623-3d282dcfe122",
   "metadata": {},
   "outputs": [],
   "source": [
    "import pandas as pd"
   ]
  },
  {
   "cell_type": "code",
   "execution_count": 2,
   "id": "f834d476-2ab5-432b-bd97-d68907c77ef4",
   "metadata": {},
   "outputs": [],
   "source": [
    "import numpy as np\n",
    "import matplotlib.pyplot as plt  \n",
    "import pandas_profiling\n",
    "import seaborn as sns\n",
    "%matplotlib inline\n",
    "sns.set()"
   ]
  },
  {
   "cell_type": "code",
   "execution_count": 3,
   "id": "9ec3a3ba-4b94-4c47-9205-bb151094986f",
   "metadata": {},
   "outputs": [],
   "source": [
    "def compiledata():\n",
    "    \n",
    "    month = ['January','February','March','April','May','June','July','August','September','October','November','December']\n",
    "    temp = pd.read_csv(\"Sales_January_2019.csv\")\n",
    "    \n",
    "    data = pd.DataFrame(columns=temp.columns)\n",
    "    for i in month:\n",
    "        temporary = pd.read_csv(f'Sales_{i}_2019.csv')\n",
    "        \n",
    "        data = data.append(temporary)\n",
    "    \n",
    "    return data"
   ]
  },
  {
   "cell_type": "code",
   "execution_count": 4,
   "id": "19137f48-b99a-475a-93ed-db9852cf650f",
   "metadata": {},
   "outputs": [],
   "source": [
    "daata = compiledata()"
   ]
  },
  {
   "cell_type": "code",
   "execution_count": 5,
   "id": "e3a91908-8c78-4ad5-ab0d-033132be549d",
   "metadata": {},
   "outputs": [
    {
     "data": {
      "text/html": [
       "<div>\n",
       "<style scoped>\n",
       "    .dataframe tbody tr th:only-of-type {\n",
       "        vertical-align: middle;\n",
       "    }\n",
       "\n",
       "    .dataframe tbody tr th {\n",
       "        vertical-align: top;\n",
       "    }\n",
       "\n",
       "    .dataframe thead th {\n",
       "        text-align: right;\n",
       "    }\n",
       "</style>\n",
       "<table border=\"1\" class=\"dataframe\">\n",
       "  <thead>\n",
       "    <tr style=\"text-align: right;\">\n",
       "      <th></th>\n",
       "      <th>Order ID</th>\n",
       "      <th>Product</th>\n",
       "      <th>Quantity Ordered</th>\n",
       "      <th>Price Each</th>\n",
       "      <th>Order Date</th>\n",
       "      <th>Purchase Address</th>\n",
       "    </tr>\n",
       "  </thead>\n",
       "  <tbody>\n",
       "    <tr>\n",
       "      <th>0</th>\n",
       "      <td>141234</td>\n",
       "      <td>iPhone</td>\n",
       "      <td>1</td>\n",
       "      <td>700</td>\n",
       "      <td>01/22/19 21:25</td>\n",
       "      <td>944 Walnut St, Boston, MA 02215</td>\n",
       "    </tr>\n",
       "    <tr>\n",
       "      <th>1</th>\n",
       "      <td>141235</td>\n",
       "      <td>Lightning Charging Cable</td>\n",
       "      <td>1</td>\n",
       "      <td>14.95</td>\n",
       "      <td>01/28/19 14:15</td>\n",
       "      <td>185 Maple St, Portland, OR 97035</td>\n",
       "    </tr>\n",
       "    <tr>\n",
       "      <th>2</th>\n",
       "      <td>141236</td>\n",
       "      <td>Wired Headphones</td>\n",
       "      <td>2</td>\n",
       "      <td>11.99</td>\n",
       "      <td>01/17/19 13:33</td>\n",
       "      <td>538 Adams St, San Francisco, CA 94016</td>\n",
       "    </tr>\n",
       "    <tr>\n",
       "      <th>3</th>\n",
       "      <td>141237</td>\n",
       "      <td>27in FHD Monitor</td>\n",
       "      <td>1</td>\n",
       "      <td>149.99</td>\n",
       "      <td>01/05/19 20:33</td>\n",
       "      <td>738 10th St, Los Angeles, CA 90001</td>\n",
       "    </tr>\n",
       "    <tr>\n",
       "      <th>4</th>\n",
       "      <td>141238</td>\n",
       "      <td>Wired Headphones</td>\n",
       "      <td>1</td>\n",
       "      <td>11.99</td>\n",
       "      <td>01/25/19 11:59</td>\n",
       "      <td>387 10th St, Austin, TX 73301</td>\n",
       "    </tr>\n",
       "  </tbody>\n",
       "</table>\n",
       "</div>"
      ],
      "text/plain": [
       "  Order ID                   Product Quantity Ordered Price Each  \\\n",
       "0   141234                    iPhone                1        700   \n",
       "1   141235  Lightning Charging Cable                1      14.95   \n",
       "2   141236          Wired Headphones                2      11.99   \n",
       "3   141237          27in FHD Monitor                1     149.99   \n",
       "4   141238          Wired Headphones                1      11.99   \n",
       "\n",
       "       Order Date                       Purchase Address  \n",
       "0  01/22/19 21:25        944 Walnut St, Boston, MA 02215  \n",
       "1  01/28/19 14:15       185 Maple St, Portland, OR 97035  \n",
       "2  01/17/19 13:33  538 Adams St, San Francisco, CA 94016  \n",
       "3  01/05/19 20:33     738 10th St, Los Angeles, CA 90001  \n",
       "4  01/25/19 11:59          387 10th St, Austin, TX 73301  "
      ]
     },
     "execution_count": 5,
     "metadata": {},
     "output_type": "execute_result"
    }
   ],
   "source": [
    "daata.head()"
   ]
  },
  {
   "cell_type": "code",
   "execution_count": 6,
   "id": "99ee6eff-5423-4bce-ab84-61552856970c",
   "metadata": {},
   "outputs": [
    {
     "data": {
      "text/plain": [
       "186850"
      ]
     },
     "execution_count": 6,
     "metadata": {},
     "output_type": "execute_result"
    }
   ],
   "source": [
    "len(daata)"
   ]
  },
  {
   "cell_type": "code",
   "execution_count": 7,
   "id": "ed5a3342-dae4-4efd-beda-38a96210683b",
   "metadata": {},
   "outputs": [
    {
     "data": {
      "text/plain": [
       "Order ID            545\n",
       "Product             545\n",
       "Quantity Ordered    545\n",
       "Price Each          545\n",
       "Order Date          545\n",
       "Purchase Address    545\n",
       "dtype: int64"
      ]
     },
     "execution_count": 7,
     "metadata": {},
     "output_type": "execute_result"
    }
   ],
   "source": [
    "daata.isna().sum()"
   ]
  },
  {
   "cell_type": "code",
   "execution_count": 8,
   "id": "3a5de633-b381-4c09-87bc-2d96a8f3abbd",
   "metadata": {},
   "outputs": [],
   "source": [
    "daata.dropna(inplace=True)"
   ]
  },
  {
   "cell_type": "code",
   "execution_count": 9,
   "id": "13e31578-049f-4d94-93ae-5607d80b54f9",
   "metadata": {},
   "outputs": [
    {
     "data": {
      "text/plain": [
       "Order ID            0\n",
       "Product             0\n",
       "Quantity Ordered    0\n",
       "Price Each          0\n",
       "Order Date          0\n",
       "Purchase Address    0\n",
       "dtype: int64"
      ]
     },
     "execution_count": 9,
     "metadata": {},
     "output_type": "execute_result"
    }
   ],
   "source": [
    "daata.isna().sum()"
   ]
  },
  {
   "cell_type": "code",
   "execution_count": 10,
   "id": "49b16ab1-73d2-41b0-a1d0-02171aa8f360",
   "metadata": {},
   "outputs": [
    {
     "name": "stdout",
     "output_type": "stream",
     "text": [
      "<class 'pandas.core.frame.DataFrame'>\n",
      "Int64Index: 186305 entries, 0 to 25116\n",
      "Data columns (total 6 columns):\n",
      " #   Column            Non-Null Count   Dtype \n",
      "---  ------            --------------   ----- \n",
      " 0   Order ID          186305 non-null  object\n",
      " 1   Product           186305 non-null  object\n",
      " 2   Quantity Ordered  186305 non-null  object\n",
      " 3   Price Each        186305 non-null  object\n",
      " 4   Order Date        186305 non-null  object\n",
      " 5   Purchase Address  186305 non-null  object\n",
      "dtypes: object(6)\n",
      "memory usage: 9.9+ MB\n"
     ]
    }
   ],
   "source": [
    "daata.info()"
   ]
  },
  {
   "cell_type": "code",
   "execution_count": 11,
   "id": "21d09a44-505d-41fd-9ea0-fca104f0f17a",
   "metadata": {},
   "outputs": [
    {
     "data": {
      "text/plain": [
       "array(['1', '2', '3', '5', '4', '7', 'Quantity Ordered', '6', '9', '8'],\n",
       "      dtype=object)"
      ]
     },
     "execution_count": 11,
     "metadata": {},
     "output_type": "execute_result"
    }
   ],
   "source": [
    "daata['Quantity Ordered'].unique()"
   ]
  },
  {
   "cell_type": "code",
   "execution_count": 12,
   "id": "d3946f1c-ba5c-4df8-b984-426cb1efe521",
   "metadata": {},
   "outputs": [],
   "source": [
    "daata['Quantity Ordered'] = daata['Quantity Ordered'].replace(\"Quantity Ordered\",daata['Quantity Ordered'].mode()[0])"
   ]
  },
  {
   "cell_type": "code",
   "execution_count": 13,
   "id": "8f73ffc3-7073-4b17-b588-50addc44261d",
   "metadata": {},
   "outputs": [
    {
     "data": {
      "text/plain": [
       "array(['1', '2', '3', '5', '4', '7', '6', '9', '8'], dtype=object)"
      ]
     },
     "execution_count": 13,
     "metadata": {},
     "output_type": "execute_result"
    }
   ],
   "source": [
    "daata['Quantity Ordered'].unique()"
   ]
  },
  {
   "cell_type": "code",
   "execution_count": 14,
   "id": "9d5bdd40-38bd-488a-ab29-f0a719e15c05",
   "metadata": {},
   "outputs": [],
   "source": [
    "daata['Quantity Ordered'] = daata['Quantity Ordered'].astype(int)"
   ]
  },
  {
   "cell_type": "code",
   "execution_count": 15,
   "id": "552a0035-8c6c-4916-ac62-3133e6dbe65f",
   "metadata": {},
   "outputs": [
    {
     "data": {
      "text/plain": [
       "array(['700', '14.95', '11.99', '149.99', '2.99', '389.99', '11.95',\n",
       "       '99.99', '150', '1700', '300', '400', '3.84', '600', '109.99',\n",
       "       '379.99', '999.99', '600.0', 'Price Each', '700.0', '150.0',\n",
       "       '300.0', '1700.0', '400.0'], dtype=object)"
      ]
     },
     "execution_count": 15,
     "metadata": {},
     "output_type": "execute_result"
    }
   ],
   "source": [
    "daata['Price Each'].unique()"
   ]
  },
  {
   "cell_type": "code",
   "execution_count": 16,
   "id": "ebd74db1-714f-4c3a-93d5-c2663f021aeb",
   "metadata": {},
   "outputs": [
    {
     "data": {
      "text/plain": [
       "'11.95'"
      ]
     },
     "execution_count": 16,
     "metadata": {},
     "output_type": "execute_result"
    }
   ],
   "source": [
    "daata['Price Each'].mode()[0]"
   ]
  },
  {
   "cell_type": "code",
   "execution_count": 17,
   "id": "3a64fa90-8097-4883-9425-c979a77ddeca",
   "metadata": {},
   "outputs": [],
   "source": [
    "daata['Price Each'] = daata['Price Each'].replace('Price Each',daata['Price Each'].mode()[0])\n"
   ]
  },
  {
   "cell_type": "code",
   "execution_count": 18,
   "id": "fa0cfc80-ee0f-43d2-a90e-c7a5263cfb92",
   "metadata": {},
   "outputs": [
    {
     "data": {
      "text/plain": [
       "array(['700', '14.95', '11.99', '149.99', '2.99', '389.99', '11.95',\n",
       "       '99.99', '150', '1700', '300', '400', '3.84', '600', '109.99',\n",
       "       '379.99', '999.99', '600.0', '700.0', '150.0', '300.0', '1700.0',\n",
       "       '400.0'], dtype=object)"
      ]
     },
     "execution_count": 18,
     "metadata": {},
     "output_type": "execute_result"
    }
   ],
   "source": [
    "daata['Price Each'].unique()"
   ]
  },
  {
   "cell_type": "code",
   "execution_count": 19,
   "id": "c6aca783-6b11-4bb4-8df8-6644758b4d81",
   "metadata": {},
   "outputs": [],
   "source": [
    "daata['Price Each'] = daata['Price Each'].astype(float)"
   ]
  },
  {
   "cell_type": "code",
   "execution_count": 20,
   "id": "0d63d7ba-6879-4719-9a40-6683b8d7bacd",
   "metadata": {},
   "outputs": [
    {
     "name": "stdout",
     "output_type": "stream",
     "text": [
      "<class 'pandas.core.frame.DataFrame'>\n",
      "Int64Index: 186305 entries, 0 to 25116\n",
      "Data columns (total 6 columns):\n",
      " #   Column            Non-Null Count   Dtype  \n",
      "---  ------            --------------   -----  \n",
      " 0   Order ID          186305 non-null  object \n",
      " 1   Product           186305 non-null  object \n",
      " 2   Quantity Ordered  186305 non-null  int32  \n",
      " 3   Price Each        186305 non-null  float64\n",
      " 4   Order Date        186305 non-null  object \n",
      " 5   Purchase Address  186305 non-null  object \n",
      "dtypes: float64(1), int32(1), object(4)\n",
      "memory usage: 9.2+ MB\n"
     ]
    }
   ],
   "source": [
    "daata.info()"
   ]
  },
  {
   "cell_type": "code",
   "execution_count": 21,
   "id": "b22084e2-1e8c-4999-b084-1b618e6b6b38",
   "metadata": {},
   "outputs": [],
   "source": [
    "daata=daata.rename(columns={'Quantity Ordered':'Quantity'},inplace=False)\n",
    "daata=daata.rename(columns={'Price Each':'Price'},inplace=False)\n",
    "daata=daata.rename(columns={'Purchase Address':'address'},inplace=False)\n",
    "daata=daata.rename(columns={'Order ID':'Order_ID'},inplace=False)\n",
    "daata=daata.rename(columns={'Order Date':'Order_Date'},inplace=False)\n"
   ]
  },
  {
   "cell_type": "code",
   "execution_count": 22,
   "id": "03af58fb-1b7c-4570-be79-5a1e9be5d268",
   "metadata": {},
   "outputs": [],
   "source": [
    "daata[['city','state','pin']]=daata.address.str.split(',' ,expand=True)"
   ]
  },
  {
   "cell_type": "code",
   "execution_count": 23,
   "id": "eb5da63f",
   "metadata": {},
   "outputs": [],
   "source": [
    "daata = daata.drop('address' , axis=1)"
   ]
  },
  {
   "cell_type": "code",
   "execution_count": null,
   "id": "ef41fe49",
   "metadata": {},
   "outputs": [],
   "source": []
  },
  {
   "cell_type": "code",
   "execution_count": 24,
   "id": "792bb7fc",
   "metadata": {},
   "outputs": [
    {
     "data": {
      "text/html": [
       "<div>\n",
       "<style scoped>\n",
       "    .dataframe tbody tr th:only-of-type {\n",
       "        vertical-align: middle;\n",
       "    }\n",
       "\n",
       "    .dataframe tbody tr th {\n",
       "        vertical-align: top;\n",
       "    }\n",
       "\n",
       "    .dataframe thead th {\n",
       "        text-align: right;\n",
       "    }\n",
       "</style>\n",
       "<table border=\"1\" class=\"dataframe\">\n",
       "  <thead>\n",
       "    <tr style=\"text-align: right;\">\n",
       "      <th></th>\n",
       "      <th>Order_ID</th>\n",
       "      <th>Product</th>\n",
       "      <th>Quantity</th>\n",
       "      <th>Price</th>\n",
       "      <th>Order_Date</th>\n",
       "      <th>city</th>\n",
       "      <th>state</th>\n",
       "      <th>pin</th>\n",
       "    </tr>\n",
       "  </thead>\n",
       "  <tbody>\n",
       "    <tr>\n",
       "      <th>0</th>\n",
       "      <td>141234</td>\n",
       "      <td>iPhone</td>\n",
       "      <td>1</td>\n",
       "      <td>700.00</td>\n",
       "      <td>01/22/19 21:25</td>\n",
       "      <td>944 Walnut St</td>\n",
       "      <td>Boston</td>\n",
       "      <td>MA 02215</td>\n",
       "    </tr>\n",
       "    <tr>\n",
       "      <th>1</th>\n",
       "      <td>141235</td>\n",
       "      <td>Lightning Charging Cable</td>\n",
       "      <td>1</td>\n",
       "      <td>14.95</td>\n",
       "      <td>01/28/19 14:15</td>\n",
       "      <td>185 Maple St</td>\n",
       "      <td>Portland</td>\n",
       "      <td>OR 97035</td>\n",
       "    </tr>\n",
       "    <tr>\n",
       "      <th>2</th>\n",
       "      <td>141236</td>\n",
       "      <td>Wired Headphones</td>\n",
       "      <td>2</td>\n",
       "      <td>11.99</td>\n",
       "      <td>01/17/19 13:33</td>\n",
       "      <td>538 Adams St</td>\n",
       "      <td>San Francisco</td>\n",
       "      <td>CA 94016</td>\n",
       "    </tr>\n",
       "    <tr>\n",
       "      <th>3</th>\n",
       "      <td>141237</td>\n",
       "      <td>27in FHD Monitor</td>\n",
       "      <td>1</td>\n",
       "      <td>149.99</td>\n",
       "      <td>01/05/19 20:33</td>\n",
       "      <td>738 10th St</td>\n",
       "      <td>Los Angeles</td>\n",
       "      <td>CA 90001</td>\n",
       "    </tr>\n",
       "    <tr>\n",
       "      <th>4</th>\n",
       "      <td>141238</td>\n",
       "      <td>Wired Headphones</td>\n",
       "      <td>1</td>\n",
       "      <td>11.99</td>\n",
       "      <td>01/25/19 11:59</td>\n",
       "      <td>387 10th St</td>\n",
       "      <td>Austin</td>\n",
       "      <td>TX 73301</td>\n",
       "    </tr>\n",
       "  </tbody>\n",
       "</table>\n",
       "</div>"
      ],
      "text/plain": [
       "  Order_ID                   Product  Quantity   Price      Order_Date  \\\n",
       "0   141234                    iPhone         1  700.00  01/22/19 21:25   \n",
       "1   141235  Lightning Charging Cable         1   14.95  01/28/19 14:15   \n",
       "2   141236          Wired Headphones         2   11.99  01/17/19 13:33   \n",
       "3   141237          27in FHD Monitor         1  149.99  01/05/19 20:33   \n",
       "4   141238          Wired Headphones         1   11.99  01/25/19 11:59   \n",
       "\n",
       "            city           state        pin  \n",
       "0  944 Walnut St          Boston   MA 02215  \n",
       "1   185 Maple St        Portland   OR 97035  \n",
       "2   538 Adams St   San Francisco   CA 94016  \n",
       "3    738 10th St     Los Angeles   CA 90001  \n",
       "4    387 10th St          Austin   TX 73301  "
      ]
     },
     "execution_count": 24,
     "metadata": {},
     "output_type": "execute_result"
    }
   ],
   "source": [
    "daata.head()"
   ]
  },
  {
   "cell_type": "markdown",
   "id": "72a83b90",
   "metadata": {},
   "source": [
    "# Questions"
   ]
  },
  {
   "cell_type": "markdown",
   "id": "dca684c2",
   "metadata": {},
   "source": [
    "Quantity of product sales state wise? "
   ]
  },
  {
   "cell_type": "code",
   "execution_count": 25,
   "id": "2cf5aeca",
   "metadata": {},
   "outputs": [
    {
     "data": {
      "text/plain": [
       "Product       state         \n",
       "20in Monitor   Atlanta           342\n",
       "               Austin            230\n",
       "               Boston            394\n",
       "               Dallas            343\n",
       "               Los Angeles       658\n",
       "                                ... \n",
       "iPhone         Los Angeles      1118\n",
       "               New York City     881\n",
       "               Portland          450\n",
       "               San Francisco    1661\n",
       "               Seattle           546\n",
       "Name: Quantity, Length: 171, dtype: int32"
      ]
     },
     "execution_count": 25,
     "metadata": {},
     "output_type": "execute_result"
    }
   ],
   "source": [
    "daata.groupby(['Product','state']).sum()[\"Quantity\"]"
   ]
  },
  {
   "cell_type": "code",
   "execution_count": 33,
   "id": "ce9e1b63",
   "metadata": {},
   "outputs": [
    {
     "name": "stderr",
     "output_type": "stream",
     "text": [
      "C:\\ProgramData\\Anaconda3\\lib\\site-packages\\seaborn\\_decorators.py:36: FutureWarning: Pass the following variable as a keyword arg: x. From version 0.12, the only valid positional argument will be `data`, and passing other arguments without an explicit keyword will result in an error or misinterpretation.\n",
      "  warnings.warn(\n"
     ]
    },
    {
     "data": {
      "text/plain": [
       "<AxesSubplot:xlabel='state', ylabel='count'>"
      ]
     },
     "execution_count": 33,
     "metadata": {},
     "output_type": "execute_result"
    },
    {
     "data": {
      "image/png": "[encoded data removed]",
      "text/plain": [
       "<Figure size 1296x1152 with 1 Axes>"
      ]
     },
     "metadata": {},
     "output_type": "display_data"
    }
   ],
   "source": [
    "sns.countplot('state',data=daata,hue='Product')"
   ]
  },
  {
   "cell_type": "markdown",
   "id": "e78af956",
   "metadata": {},
   "source": [
    "From the above we can see maximum orders are placed in San Francisco, Los Angelesand New York City\n",
    "\n",
    "the above data shows that LG Dryer and LG Washing Machine is less selling product in every city\n",
    "\n",
    "the above shows that leaat selling state of year 2019 was Austin. "
   ]
  },
  {
   "cell_type": "markdown",
   "id": "8134dfff",
   "metadata": {},
   "source": [
    "# QUESTION"
   ]
  },
  {
   "cell_type": "code",
   "execution_count": null,
   "id": "091e9cf7",
   "metadata": {},
   "outputs": [],
   "source": [
    "Which product sells highest in quantity"
   ]
  },
  {
   "cell_type": "code",
   "execution_count": 26,
   "id": "5c0d8318",
   "metadata": {},
   "outputs": [],
   "source": [
    "df3=daata.groupby('Product').agg({'Quantity':'sum'})"
   ]
  },
  {
   "cell_type": "code",
   "execution_count": 27,
   "id": "6105bbb3",
   "metadata": {},
   "outputs": [
    {
     "data": {
      "text/html": [
       "<div>\n",
       "<style scoped>\n",
       "    .dataframe tbody tr th:only-of-type {\n",
       "        vertical-align: middle;\n",
       "    }\n",
       "\n",
       "    .dataframe tbody tr th {\n",
       "        vertical-align: top;\n",
       "    }\n",
       "\n",
       "    .dataframe thead th {\n",
       "        text-align: right;\n",
       "    }\n",
       "</style>\n",
       "<table border=\"1\" class=\"dataframe\">\n",
       "  <thead>\n",
       "    <tr style=\"text-align: right;\">\n",
       "      <th></th>\n",
       "      <th>Quantity</th>\n",
       "    </tr>\n",
       "    <tr>\n",
       "      <th>Product</th>\n",
       "      <th></th>\n",
       "    </tr>\n",
       "  </thead>\n",
       "  <tbody>\n",
       "    <tr>\n",
       "      <th>20in Monitor</th>\n",
       "      <td>4129</td>\n",
       "    </tr>\n",
       "    <tr>\n",
       "      <th>27in 4K Gaming Monitor</th>\n",
       "      <td>6244</td>\n",
       "    </tr>\n",
       "    <tr>\n",
       "      <th>27in FHD Monitor</th>\n",
       "      <td>7550</td>\n",
       "    </tr>\n",
       "    <tr>\n",
       "      <th>34in Ultrawide Monitor</th>\n",
       "      <td>6199</td>\n",
       "    </tr>\n",
       "    <tr>\n",
       "      <th>AA Batteries (4-pack)</th>\n",
       "      <td>27635</td>\n",
       "    </tr>\n",
       "    <tr>\n",
       "      <th>AAA Batteries (4-pack)</th>\n",
       "      <td>31017</td>\n",
       "    </tr>\n",
       "    <tr>\n",
       "      <th>Apple Airpods Headphones</th>\n",
       "      <td>15661</td>\n",
       "    </tr>\n",
       "    <tr>\n",
       "      <th>Bose SoundSport Headphones</th>\n",
       "      <td>13457</td>\n",
       "    </tr>\n",
       "    <tr>\n",
       "      <th>Flatscreen TV</th>\n",
       "      <td>4819</td>\n",
       "    </tr>\n",
       "    <tr>\n",
       "      <th>Google Phone</th>\n",
       "      <td>5532</td>\n",
       "    </tr>\n",
       "    <tr>\n",
       "      <th>LG Dryer</th>\n",
       "      <td>646</td>\n",
       "    </tr>\n",
       "    <tr>\n",
       "      <th>LG Washing Machine</th>\n",
       "      <td>666</td>\n",
       "    </tr>\n",
       "    <tr>\n",
       "      <th>Lightning Charging Cable</th>\n",
       "      <td>23217</td>\n",
       "    </tr>\n",
       "    <tr>\n",
       "      <th>Macbook Pro Laptop</th>\n",
       "      <td>4728</td>\n",
       "    </tr>\n",
       "    <tr>\n",
       "      <th>Product</th>\n",
       "      <td>355</td>\n",
       "    </tr>\n",
       "    <tr>\n",
       "      <th>ThinkPad Laptop</th>\n",
       "      <td>4130</td>\n",
       "    </tr>\n",
       "    <tr>\n",
       "      <th>USB-C Charging Cable</th>\n",
       "      <td>23975</td>\n",
       "    </tr>\n",
       "    <tr>\n",
       "      <th>Vareebadd Phone</th>\n",
       "      <td>2068</td>\n",
       "    </tr>\n",
       "    <tr>\n",
       "      <th>Wired Headphones</th>\n",
       "      <td>20557</td>\n",
       "    </tr>\n",
       "    <tr>\n",
       "      <th>iPhone</th>\n",
       "      <td>6849</td>\n",
       "    </tr>\n",
       "  </tbody>\n",
       "</table>\n",
       "</div>"
      ],
      "text/plain": [
       "                            Quantity\n",
       "Product                             \n",
       "20in Monitor                    4129\n",
       "27in 4K Gaming Monitor          6244\n",
       "27in FHD Monitor                7550\n",
       "34in Ultrawide Monitor          6199\n",
       "AA Batteries (4-pack)          27635\n",
       "AAA Batteries (4-pack)         31017\n",
       "Apple Airpods Headphones       15661\n",
       "Bose SoundSport Headphones     13457\n",
       "Flatscreen TV                   4819\n",
       "Google Phone                    5532\n",
       "LG Dryer                         646\n",
       "LG Washing Machine               666\n",
       "Lightning Charging Cable       23217\n",
       "Macbook Pro Laptop              4728\n",
       "Product                          355\n",
       "ThinkPad Laptop                 4130\n",
       "USB-C Charging Cable           23975\n",
       "Vareebadd Phone                 2068\n",
       "Wired Headphones               20557\n",
       "iPhone                          6849"
      ]
     },
     "execution_count": 27,
     "metadata": {},
     "output_type": "execute_result"
    }
   ],
   "source": [
    "df3"
   ]
  },
  {
   "cell_type": "code",
   "execution_count": 53,
   "id": "437ac5b3",
   "metadata": {},
   "outputs": [
    {
     "data": {
      "text/plain": [
       "<AxesSubplot:ylabel='Product'>"
      ]
     },
     "execution_count": 53,
     "metadata": {},
     "output_type": "execute_result"
    },
    {
     "data": {
      "image/png": "[encoded data removed]",
      "text/plain": [
       "<Figure size 1296x1152 with 1 Axes>"
      ]
     },
     "metadata": {},
     "output_type": "display_data"
    }
   ],
   "source": [
    "df3.plot.barh()"
   ]
  },
  {
   "cell_type": "raw",
   "id": "37fc6550",
   "metadata": {},
   "source": [
    "From the above we can AAA batteries and AA batteries are highest selling product.\n",
    "wired headphone ,usb c charging cableand lightning charging cable all are equal selling product between 20,000 to 24,000.\n",
    "LG Washing Machine and LG Dryer are least selling Product"
   ]
  },
  {
   "cell_type": "code",
   "execution_count": null,
   "id": "1bb19a12",
   "metadata": {},
   "outputs": [],
   "source": []
  },
  {
   "cell_type": "code",
   "execution_count": 36,
   "id": "80408d98",
   "metadata": {},
   "outputs": [],
   "source": [
    "daata[\"orderprice\"]=daata[\"Quantity\"]*daata[\"Price\"]"
   ]
  },
  {
   "cell_type": "code",
   "execution_count": 37,
   "id": "202ff29d",
   "metadata": {},
   "outputs": [
    {
     "data": {
      "text/html": [
       "<div>\n",
       "<style scoped>\n",
       "    .dataframe tbody tr th:only-of-type {\n",
       "        vertical-align: middle;\n",
       "    }\n",
       "\n",
       "    .dataframe tbody tr th {\n",
       "        vertical-align: top;\n",
       "    }\n",
       "\n",
       "    .dataframe thead th {\n",
       "        text-align: right;\n",
       "    }\n",
       "</style>\n",
       "<table border=\"1\" class=\"dataframe\">\n",
       "  <thead>\n",
       "    <tr style=\"text-align: right;\">\n",
       "      <th></th>\n",
       "      <th>Order_ID</th>\n",
       "      <th>Product</th>\n",
       "      <th>Quantity</th>\n",
       "      <th>Price</th>\n",
       "      <th>Order_Date</th>\n",
       "      <th>city</th>\n",
       "      <th>state</th>\n",
       "      <th>pin</th>\n",
       "      <th>orderprice</th>\n",
       "    </tr>\n",
       "  </thead>\n",
       "  <tbody>\n",
       "    <tr>\n",
       "      <th>0</th>\n",
       "      <td>141234</td>\n",
       "      <td>iPhone</td>\n",
       "      <td>1</td>\n",
       "      <td>700.00</td>\n",
       "      <td>01/22/19 21:25</td>\n",
       "      <td>944 Walnut St</td>\n",
       "      <td>Boston</td>\n",
       "      <td>MA 02215</td>\n",
       "      <td>700.00</td>\n",
       "    </tr>\n",
       "    <tr>\n",
       "      <th>1</th>\n",
       "      <td>141235</td>\n",
       "      <td>Lightning Charging Cable</td>\n",
       "      <td>1</td>\n",
       "      <td>14.95</td>\n",
       "      <td>01/28/19 14:15</td>\n",
       "      <td>185 Maple St</td>\n",
       "      <td>Portland</td>\n",
       "      <td>OR 97035</td>\n",
       "      <td>14.95</td>\n",
       "    </tr>\n",
       "    <tr>\n",
       "      <th>2</th>\n",
       "      <td>141236</td>\n",
       "      <td>Wired Headphones</td>\n",
       "      <td>2</td>\n",
       "      <td>11.99</td>\n",
       "      <td>01/17/19 13:33</td>\n",
       "      <td>538 Adams St</td>\n",
       "      <td>San Francisco</td>\n",
       "      <td>CA 94016</td>\n",
       "      <td>23.98</td>\n",
       "    </tr>\n",
       "    <tr>\n",
       "      <th>3</th>\n",
       "      <td>141237</td>\n",
       "      <td>27in FHD Monitor</td>\n",
       "      <td>1</td>\n",
       "      <td>149.99</td>\n",
       "      <td>01/05/19 20:33</td>\n",
       "      <td>738 10th St</td>\n",
       "      <td>Los Angeles</td>\n",
       "      <td>CA 90001</td>\n",
       "      <td>149.99</td>\n",
       "    </tr>\n",
       "    <tr>\n",
       "      <th>4</th>\n",
       "      <td>141238</td>\n",
       "      <td>Wired Headphones</td>\n",
       "      <td>1</td>\n",
       "      <td>11.99</td>\n",
       "      <td>01/25/19 11:59</td>\n",
       "      <td>387 10th St</td>\n",
       "      <td>Austin</td>\n",
       "      <td>TX 73301</td>\n",
       "      <td>11.99</td>\n",
       "    </tr>\n",
       "    <tr>\n",
       "      <th>...</th>\n",
       "      <td>...</td>\n",
       "      <td>...</td>\n",
       "      <td>...</td>\n",
       "      <td>...</td>\n",
       "      <td>...</td>\n",
       "      <td>...</td>\n",
       "      <td>...</td>\n",
       "      <td>...</td>\n",
       "      <td>...</td>\n",
       "    </tr>\n",
       "    <tr>\n",
       "      <th>25112</th>\n",
       "      <td>319666</td>\n",
       "      <td>Lightning Charging Cable</td>\n",
       "      <td>1</td>\n",
       "      <td>14.95</td>\n",
       "      <td>12/11/19 20:58</td>\n",
       "      <td>14 Madison St</td>\n",
       "      <td>San Francisco</td>\n",
       "      <td>CA 94016</td>\n",
       "      <td>14.95</td>\n",
       "    </tr>\n",
       "    <tr>\n",
       "      <th>25113</th>\n",
       "      <td>319667</td>\n",
       "      <td>AA Batteries (4-pack)</td>\n",
       "      <td>2</td>\n",
       "      <td>3.84</td>\n",
       "      <td>12/01/19 12:01</td>\n",
       "      <td>549 Willow St</td>\n",
       "      <td>Los Angeles</td>\n",
       "      <td>CA 90001</td>\n",
       "      <td>7.68</td>\n",
       "    </tr>\n",
       "    <tr>\n",
       "      <th>25114</th>\n",
       "      <td>319668</td>\n",
       "      <td>Vareebadd Phone</td>\n",
       "      <td>1</td>\n",
       "      <td>400.00</td>\n",
       "      <td>12/09/19 06:43</td>\n",
       "      <td>273 Wilson St</td>\n",
       "      <td>Seattle</td>\n",
       "      <td>WA 98101</td>\n",
       "      <td>400.00</td>\n",
       "    </tr>\n",
       "    <tr>\n",
       "      <th>25115</th>\n",
       "      <td>319669</td>\n",
       "      <td>Wired Headphones</td>\n",
       "      <td>1</td>\n",
       "      <td>11.99</td>\n",
       "      <td>12/03/19 10:39</td>\n",
       "      <td>778 River St</td>\n",
       "      <td>Dallas</td>\n",
       "      <td>TX 75001</td>\n",
       "      <td>11.99</td>\n",
       "    </tr>\n",
       "    <tr>\n",
       "      <th>25116</th>\n",
       "      <td>319670</td>\n",
       "      <td>Bose SoundSport Headphones</td>\n",
       "      <td>1</td>\n",
       "      <td>99.99</td>\n",
       "      <td>12/21/19 21:45</td>\n",
       "      <td>747 Chestnut St</td>\n",
       "      <td>Los Angeles</td>\n",
       "      <td>CA 90001</td>\n",
       "      <td>99.99</td>\n",
       "    </tr>\n",
       "  </tbody>\n",
       "</table>\n",
       "<p>186305 rows × 9 columns</p>\n",
       "</div>"
      ],
      "text/plain": [
       "      Order_ID                     Product  Quantity   Price      Order_Date  \\\n",
       "0       141234                      iPhone         1  700.00  01/22/19 21:25   \n",
       "1       141235    Lightning Charging Cable         1   14.95  01/28/19 14:15   \n",
       "2       141236            Wired Headphones         2   11.99  01/17/19 13:33   \n",
       "3       141237            27in FHD Monitor         1  149.99  01/05/19 20:33   \n",
       "4       141238            Wired Headphones         1   11.99  01/25/19 11:59   \n",
       "...        ...                         ...       ...     ...             ...   \n",
       "25112   319666    Lightning Charging Cable         1   14.95  12/11/19 20:58   \n",
       "25113   319667       AA Batteries (4-pack)         2    3.84  12/01/19 12:01   \n",
       "25114   319668             Vareebadd Phone         1  400.00  12/09/19 06:43   \n",
       "25115   319669            Wired Headphones         1   11.99  12/03/19 10:39   \n",
       "25116   319670  Bose SoundSport Headphones         1   99.99  12/21/19 21:45   \n",
       "\n",
       "                  city           state        pin  orderprice  \n",
       "0        944 Walnut St          Boston   MA 02215      700.00  \n",
       "1         185 Maple St        Portland   OR 97035       14.95  \n",
       "2         538 Adams St   San Francisco   CA 94016       23.98  \n",
       "3          738 10th St     Los Angeles   CA 90001      149.99  \n",
       "4          387 10th St          Austin   TX 73301       11.99  \n",
       "...                ...             ...        ...         ...  \n",
       "25112    14 Madison St   San Francisco   CA 94016       14.95  \n",
       "25113    549 Willow St     Los Angeles   CA 90001        7.68  \n",
       "25114    273 Wilson St         Seattle   WA 98101      400.00  \n",
       "25115     778 River St          Dallas   TX 75001       11.99  \n",
       "25116  747 Chestnut St     Los Angeles   CA 90001       99.99  \n",
       "\n",
       "[186305 rows x 9 columns]"
      ]
     },
     "execution_count": 37,
     "metadata": {},
     "output_type": "execute_result"
    }
   ],
   "source": [
    "daata"
   ]
  },
  {
   "cell_type": "markdown",
   "id": "267cc9c6",
   "metadata": {},
   "source": [
    "# QUESTION"
   ]
  },
  {
   "cell_type": "markdown",
   "id": "8c09a821",
   "metadata": {},
   "source": [
    "which Product generate highest sales revenue "
   ]
  },
  {
   "cell_type": "code",
   "execution_count": 38,
   "id": "354710f9",
   "metadata": {},
   "outputs": [
    {
     "data": {
      "text/html": [
       "<div>\n",
       "<style scoped>\n",
       "    .dataframe tbody tr th:only-of-type {\n",
       "        vertical-align: middle;\n",
       "    }\n",
       "\n",
       "    .dataframe tbody tr th {\n",
       "        vertical-align: top;\n",
       "    }\n",
       "\n",
       "    .dataframe thead th {\n",
       "        text-align: right;\n",
       "    }\n",
       "</style>\n",
       "<table border=\"1\" class=\"dataframe\">\n",
       "  <thead>\n",
       "    <tr style=\"text-align: right;\">\n",
       "      <th></th>\n",
       "      <th>Order_ID</th>\n",
       "      <th>Product</th>\n",
       "      <th>Quantity</th>\n",
       "      <th>Price</th>\n",
       "      <th>Order_Date</th>\n",
       "      <th>city</th>\n",
       "      <th>state</th>\n",
       "      <th>pin</th>\n",
       "      <th>orderprice</th>\n",
       "    </tr>\n",
       "  </thead>\n",
       "  <tbody>\n",
       "    <tr>\n",
       "      <th>0</th>\n",
       "      <td>141234</td>\n",
       "      <td>iPhone</td>\n",
       "      <td>1</td>\n",
       "      <td>700.00</td>\n",
       "      <td>01/22/19 21:25</td>\n",
       "      <td>944 Walnut St</td>\n",
       "      <td>Boston</td>\n",
       "      <td>MA 02215</td>\n",
       "      <td>700.00</td>\n",
       "    </tr>\n",
       "    <tr>\n",
       "      <th>1</th>\n",
       "      <td>141235</td>\n",
       "      <td>Lightning Charging Cable</td>\n",
       "      <td>1</td>\n",
       "      <td>14.95</td>\n",
       "      <td>01/28/19 14:15</td>\n",
       "      <td>185 Maple St</td>\n",
       "      <td>Portland</td>\n",
       "      <td>OR 97035</td>\n",
       "      <td>14.95</td>\n",
       "    </tr>\n",
       "    <tr>\n",
       "      <th>2</th>\n",
       "      <td>141236</td>\n",
       "      <td>Wired Headphones</td>\n",
       "      <td>2</td>\n",
       "      <td>11.99</td>\n",
       "      <td>01/17/19 13:33</td>\n",
       "      <td>538 Adams St</td>\n",
       "      <td>San Francisco</td>\n",
       "      <td>CA 94016</td>\n",
       "      <td>23.98</td>\n",
       "    </tr>\n",
       "    <tr>\n",
       "      <th>3</th>\n",
       "      <td>141237</td>\n",
       "      <td>27in FHD Monitor</td>\n",
       "      <td>1</td>\n",
       "      <td>149.99</td>\n",
       "      <td>01/05/19 20:33</td>\n",
       "      <td>738 10th St</td>\n",
       "      <td>Los Angeles</td>\n",
       "      <td>CA 90001</td>\n",
       "      <td>149.99</td>\n",
       "    </tr>\n",
       "    <tr>\n",
       "      <th>4</th>\n",
       "      <td>141238</td>\n",
       "      <td>Wired Headphones</td>\n",
       "      <td>1</td>\n",
       "      <td>11.99</td>\n",
       "      <td>01/25/19 11:59</td>\n",
       "      <td>387 10th St</td>\n",
       "      <td>Austin</td>\n",
       "      <td>TX 73301</td>\n",
       "      <td>11.99</td>\n",
       "    </tr>\n",
       "    <tr>\n",
       "      <th>...</th>\n",
       "      <td>...</td>\n",
       "      <td>...</td>\n",
       "      <td>...</td>\n",
       "      <td>...</td>\n",
       "      <td>...</td>\n",
       "      <td>...</td>\n",
       "      <td>...</td>\n",
       "      <td>...</td>\n",
       "      <td>...</td>\n",
       "    </tr>\n",
       "    <tr>\n",
       "      <th>25112</th>\n",
       "      <td>319666</td>\n",
       "      <td>Lightning Charging Cable</td>\n",
       "      <td>1</td>\n",
       "      <td>14.95</td>\n",
       "      <td>12/11/19 20:58</td>\n",
       "      <td>14 Madison St</td>\n",
       "      <td>San Francisco</td>\n",
       "      <td>CA 94016</td>\n",
       "      <td>14.95</td>\n",
       "    </tr>\n",
       "    <tr>\n",
       "      <th>25113</th>\n",
       "      <td>319667</td>\n",
       "      <td>AA Batteries (4-pack)</td>\n",
       "      <td>2</td>\n",
       "      <td>3.84</td>\n",
       "      <td>12/01/19 12:01</td>\n",
       "      <td>549 Willow St</td>\n",
       "      <td>Los Angeles</td>\n",
       "      <td>CA 90001</td>\n",
       "      <td>7.68</td>\n",
       "    </tr>\n",
       "    <tr>\n",
       "      <th>25114</th>\n",
       "      <td>319668</td>\n",
       "      <td>Vareebadd Phone</td>\n",
       "      <td>1</td>\n",
       "      <td>400.00</td>\n",
       "      <td>12/09/19 06:43</td>\n",
       "      <td>273 Wilson St</td>\n",
       "      <td>Seattle</td>\n",
       "      <td>WA 98101</td>\n",
       "      <td>400.00</td>\n",
       "    </tr>\n",
       "    <tr>\n",
       "      <th>25115</th>\n",
       "      <td>319669</td>\n",
       "      <td>Wired Headphones</td>\n",
       "      <td>1</td>\n",
       "      <td>11.99</td>\n",
       "      <td>12/03/19 10:39</td>\n",
       "      <td>778 River St</td>\n",
       "      <td>Dallas</td>\n",
       "      <td>TX 75001</td>\n",
       "      <td>11.99</td>\n",
       "    </tr>\n",
       "    <tr>\n",
       "      <th>25116</th>\n",
       "      <td>319670</td>\n",
       "      <td>Bose SoundSport Headphones</td>\n",
       "      <td>1</td>\n",
       "      <td>99.99</td>\n",
       "      <td>12/21/19 21:45</td>\n",
       "      <td>747 Chestnut St</td>\n",
       "      <td>Los Angeles</td>\n",
       "      <td>CA 90001</td>\n",
       "      <td>99.99</td>\n",
       "    </tr>\n",
       "  </tbody>\n",
       "</table>\n",
       "<p>186305 rows × 9 columns</p>\n",
       "</div>"
      ],
      "text/plain": [
       "      Order_ID                     Product  Quantity   Price      Order_Date  \\\n",
       "0       141234                      iPhone         1  700.00  01/22/19 21:25   \n",
       "1       141235    Lightning Charging Cable         1   14.95  01/28/19 14:15   \n",
       "2       141236            Wired Headphones         2   11.99  01/17/19 13:33   \n",
       "3       141237            27in FHD Monitor         1  149.99  01/05/19 20:33   \n",
       "4       141238            Wired Headphones         1   11.99  01/25/19 11:59   \n",
       "...        ...                         ...       ...     ...             ...   \n",
       "25112   319666    Lightning Charging Cable         1   14.95  12/11/19 20:58   \n",
       "25113   319667       AA Batteries (4-pack)         2    3.84  12/01/19 12:01   \n",
       "25114   319668             Vareebadd Phone         1  400.00  12/09/19 06:43   \n",
       "25115   319669            Wired Headphones         1   11.99  12/03/19 10:39   \n",
       "25116   319670  Bose SoundSport Headphones         1   99.99  12/21/19 21:45   \n",
       "\n",
       "                  city           state        pin  orderprice  \n",
       "0        944 Walnut St          Boston   MA 02215      700.00  \n",
       "1         185 Maple St        Portland   OR 97035       14.95  \n",
       "2         538 Adams St   San Francisco   CA 94016       23.98  \n",
       "3          738 10th St     Los Angeles   CA 90001      149.99  \n",
       "4          387 10th St          Austin   TX 73301       11.99  \n",
       "...                ...             ...        ...         ...  \n",
       "25112    14 Madison St   San Francisco   CA 94016       14.95  \n",
       "25113    549 Willow St     Los Angeles   CA 90001        7.68  \n",
       "25114    273 Wilson St         Seattle   WA 98101      400.00  \n",
       "25115     778 River St          Dallas   TX 75001       11.99  \n",
       "25116  747 Chestnut St     Los Angeles   CA 90001       99.99  \n",
       "\n",
       "[186305 rows x 9 columns]"
      ]
     },
     "execution_count": 38,
     "metadata": {},
     "output_type": "execute_result"
    }
   ],
   "source": [
    "daata"
   ]
  },
  {
   "cell_type": "code",
   "execution_count": 39,
   "id": "9c713a09",
   "metadata": {},
   "outputs": [],
   "source": [
    "df5=daata.groupby('Product')['orderprice'].sum()"
   ]
  },
  {
   "cell_type": "code",
   "execution_count": 40,
   "id": "39909769",
   "metadata": {},
   "outputs": [
    {
     "data": {
      "text/plain": [
       "Product\n",
       "20in Monitor                   454148.71\n",
       "27in 4K Gaming Monitor        2435097.56\n",
       "27in FHD Monitor              1132424.50\n",
       "34in Ultrawide Monitor        2355558.01\n",
       "AA Batteries (4-pack)          106118.40\n",
       "AAA Batteries (4-pack)          92740.83\n",
       "Apple Airpods Headphones      2349150.00\n",
       "Bose SoundSport Headphones    1345565.43\n",
       "Flatscreen TV                 1445700.00\n",
       "Google Phone                  3319200.00\n",
       "LG Dryer                       387600.00\n",
       "LG Washing Machine             399600.00\n",
       "Lightning Charging Cable       347094.15\n",
       "Macbook Pro Laptop            8037600.00\n",
       "Product                          4242.25\n",
       "ThinkPad Laptop               4129958.70\n",
       "USB-C Charging Cable           286501.25\n",
       "Vareebadd Phone                827200.00\n",
       "Wired Headphones               246478.43\n",
       "iPhone                        4794300.00\n",
       "Name: orderprice, dtype: float64"
      ]
     },
     "execution_count": 40,
     "metadata": {},
     "output_type": "execute_result"
    }
   ],
   "source": [
    "df5"
   ]
  },
  {
   "cell_type": "code",
   "execution_count": 52,
   "id": "31ef7055",
   "metadata": {},
   "outputs": [
    {
     "data": {
      "text/plain": [
       "<AxesSubplot:ylabel='Product'>"
      ]
     },
     "execution_count": 52,
     "metadata": {},
     "output_type": "execute_result"
    },
    {
     "data": {
      "image/png": "[encoded data removed]",
      "text/plain": [
       "<Figure size 1296x1152 with 1 Axes>"
      ]
     },
     "metadata": {},
     "output_type": "display_data"
    }
   ],
   "source": [
    "df5.plot.barh()"
   ]
  },
  {
   "cell_type": "raw",
   "id": "51beb2e1",
   "metadata": {},
   "source": [
    "From the above we can see macbook pro laptop genrate highest sale revenue\n",
    "\n",
    "iphone and thinkpad genrate respectively second and third\n",
    "\n",
    "AA batteries and AAA batteries are highest selling product and generate lowest revenue\n"
   ]
  },
  {
   "cell_type": "code",
   "execution_count": null,
   "id": "38d85449",
   "metadata": {},
   "outputs": [],
   "source": []
  },
  {
   "cell_type": "markdown",
   "id": "868c5b58",
   "metadata": {},
   "source": [
    "# QUESTION"
   ]
  },
  {
   "cell_type": "markdown",
   "id": "281cfaca",
   "metadata": {},
   "source": [
    "Does price affect sales?"
   ]
  },
  {
   "cell_type": "code",
   "execution_count": 46,
   "id": "8214b48c",
   "metadata": {},
   "outputs": [
    {
     "name": "stderr",
     "output_type": "stream",
     "text": [
      "*c* argument looks like a single numeric RGB or RGBA sequence, which should be avoided as value-mapping will have precedence in case its length matches with *x* & *y*.  Please use the *color* keyword-argument or provide a 2D array with a single row if you intend to specify the same RGB or RGBA value for all points.\n"
     ]
    },
    {
     "data": {
      "text/plain": [
       "<AxesSubplot:xlabel='Price', ylabel='Quantity'>"
      ]
     },
     "execution_count": 46,
     "metadata": {},
     "output_type": "execute_result"
    },
    {
     "data": {
      "image/png": "[encoded data removed]",
      "text/plain": [
       "<Figure size 432x288 with 1 Axes>"
      ]
     },
     "metadata": {},
     "output_type": "display_data"
    }
   ],
   "source": [
    "daata.plot.scatter(x='Price', y='Quantity')"
   ]
  },
  {
   "cell_type": "code",
   "execution_count": null,
   "id": "d075743e",
   "metadata": {},
   "outputs": [],
   "source": [
    "From the above we can the lower the price Quantity is higher.\n",
    "With increasing in price Quantity of order decreases.\n"
   ]
  },
  {
   "cell_type": "markdown",
   "id": "76aa8656",
   "metadata": {},
   "source": [
    "# CONCLUSIONS"
   ]
  },
  {
   "cell_type": "markdown",
   "id": "e3b9106c",
   "metadata": {},
   "source": [
    "Amazone 2019 sales data helps us in deducting that maximum orders was placed by Big states like San Francisco ,Los Angles and NYC \n",
    "\n",
    "maximum orders was placed only for Battries and wired headphone \n",
    "\n",
    "In 2019 highest revenue genertating products was laptop macbook pro,iphone and thinkpad laptop\n",
    "\n",
    "More than 50% pepole are intrested in buying cheap products \n",
    "\n",
    "LG washing maching and LG dryer are least selling product of the year 2019\n",
    "\n",
    "According to state Austine and Portland order least product in 2019"
   ]
  },
  {
   "cell_type": "code",
   "execution_count": null,
   "id": "626e44f8",
   "metadata": {},
   "outputs": [],
   "source": []
  }
 ],
 "metadata": {
  "kernelspec": {
   "display_name": "Python 3 (ipykernel)",
   "language": "python",
   "name": "python3"
  },
  "language_info": {
   "codemirror_mode": {
    "name": "ipython",
    "version": 3
   },
   "file_extension": ".py",
   "mimetype": "text/x-python",
   "name": "python",
   "nbconvert_exporter": "python",
   "pygments_lexer": "ipython3",
   "version": "3.9.7"
  }
 },
 "nbformat": 4,
 "nbformat_minor": 5
}
